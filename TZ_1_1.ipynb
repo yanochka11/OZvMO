{
  "nbformat": 4,
  "nbformat_minor": 0,
  "metadata": {
    "colab": {
      "name": "TZ_1_1.ipynb",
      "private_outputs": true,
      "provenance": [],
      "collapsed_sections": []
    },
    "kernelspec": {
      "name": "python3",
      "display_name": "Python 3"
    },
    "language_info": {
      "name": "python"
    }
  },
  "cells": [
    {
      "cell_type": "code",
      "source": [
        "import sympy as sp\n",
        "from sympy import *"
      ],
      "metadata": {
        "id": "6L4Ok3fyw99Y"
      },
      "execution_count": null,
      "outputs": []
    },
    {
      "cell_type": "code",
      "source": [
        "def data_entry():\n",
        "  x , y = sp.symbols(input(\"Введите названия переменных: \").split())\n",
        "  print(x, y)\n",
        "  f_x_y = sp.sympify(input('Введите функцию 2-х переменных: '))\n",
        "  print(f_x_y)\n",
        "  restrictions = int(input(\"Есть ограничения( 1 -да, 0 - нет)? \"))\n",
        "  if restrictions:\n",
        "    x0, x_end = map(int, input(\"Введите допустимые интервалы по x: \").split())\n",
        "    print(x0, x_end)\n",
        "    y0, y_end = map(int, input(\"Введите ограничения по y: \").split())\n",
        "    print(y0, y_end)"
      ],
      "metadata": {
        "id": "8yQjPodPw-vI"
      },
      "execution_count": null,
      "outputs": []
    },
    {
      "cell_type": "code",
      "source": [
        "data_entry()"
      ],
      "metadata": {
        "id": "HdOCxICZ3Lck"
      },
      "execution_count": null,
      "outputs": []
    }
  ]
}