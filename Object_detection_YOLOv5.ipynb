{
  "nbformat": 4,
  "nbformat_minor": 0,
  "metadata": {
    "colab": {
      "private_outputs": true,
      "provenance": [],
      "authorship_tag": "ABX9TyMVf/u5D3pRXCbVyYJ6pU/K",
      "include_colab_link": true
    },
    "kernelspec": {
      "name": "python3",
      "display_name": "Python 3"
    },
    "language_info": {
      "name": "python"
    },
    "accelerator": "GPU",
    "gpuClass": "standard"
  },
  "cells": [
    {
      "cell_type": "markdown",
      "metadata": {
        "id": "view-in-github",
        "colab_type": "text"
      },
      "source": [
        "<a href=\"https://colab.research.google.com/github/yanochka11/Optimization-tasks-in-machine-learning./blob/main/Object_detection_YOLOv5.ipynb\" target=\"_parent\"><img src=\"https://colab.research.google.com/assets/colab-badge.svg\" alt=\"Open In Colab\"/></a>"
      ]
    },
    {
      "cell_type": "code",
      "execution_count": null,
      "metadata": {
        "id": "xgIWjls2Sn3N"
      },
      "outputs": [],
      "source": [
        "#!git clone https://github.com/ultralytics/yolov5"
      ]
    },
    {
      "cell_type": "code",
      "source": [
        "from google.colab import drive\n",
        "drive.mount('/content/drive')"
      ],
      "metadata": {
        "id": "uJnh531MixCa"
      },
      "execution_count": null,
      "outputs": []
    },
    {
      "cell_type": "code",
      "source": [
        "import zipfile\n",
        "from tqdm.notebook import tqdm\n",
        "\n",
        "zf = zipfile.ZipFile('drive/MyDrive/yologun.zip')\n",
        "for file in tqdm(zf.infolist()):\n",
        "    zf.extract(file)"
      ],
      "metadata": {
        "id": "ghV7u6UBifax"
      },
      "execution_count": null,
      "outputs": []
    },
    {
      "cell_type": "code",
      "source": [
        "!pip install -r yolov5/requirements.txt"
      ],
      "metadata": {
        "id": "t8qR8dIoSzPW"
      },
      "execution_count": null,
      "outputs": []
    },
    {
      "cell_type": "code",
      "source": [
        "import torch\n",
        "from matplotlib import pyplot as plt\n",
        "import numpy as np\n",
        "import cv2"
      ],
      "metadata": {
        "id": "_W53Y0MwTNy_"
      },
      "execution_count": null,
      "outputs": []
    },
    {
      "cell_type": "code",
      "source": [
        "model = torch.hub.load('ultralytics/yolov5', 'yolov5l')"
      ],
      "metadata": {
        "id": "_X4uaXhkTSqU"
      },
      "execution_count": null,
      "outputs": []
    },
    {
      "cell_type": "code",
      "source": [
        "model"
      ],
      "metadata": {
        "id": "oSsh5lDTTU70"
      },
      "execution_count": null,
      "outputs": []
    },
    {
      "cell_type": "code",
      "source": [
        "img_1 = \"https://celes.club/uploads/posts/2022-06/1655362816_1-celes-club-p-probka-mashin-mashini-krasivo-foto-1.jpg\""
      ],
      "metadata": {
        "id": "H9hrmeF8TZo7"
      },
      "execution_count": null,
      "outputs": []
    },
    {
      "cell_type": "code",
      "source": [
        "img_1"
      ],
      "metadata": {
        "id": "Phq0LYqETiEj"
      },
      "execution_count": null,
      "outputs": []
    },
    {
      "cell_type": "code",
      "source": [
        "results = model(img_1)\n",
        "results.print()"
      ],
      "metadata": {
        "id": "UQFtWSzFTegV"
      },
      "execution_count": null,
      "outputs": []
    },
    {
      "cell_type": "code",
      "source": [
        "%matplotlib inline \n",
        "fig=plt.figure(figsize=(18,18))\n",
        "plt.imshow(np.squeeze(results.render()))\n",
        "plt.show()"
      ],
      "metadata": {
        "id": "NNlZDMUYThdm"
      },
      "execution_count": null,
      "outputs": []
    },
    {
      "cell_type": "code",
      "source": [
        "img_2 = \"https://alimentola.info/uploads/posts/2021-12/1640410875_38-alimentola-info-p-pokaz-modi-obuv-devushka-krasivo-foto-42.jpg\""
      ],
      "metadata": {
        "id": "xIpyzaSgdRyc"
      },
      "execution_count": null,
      "outputs": []
    },
    {
      "cell_type": "code",
      "source": [
        "results = model(img_2)\n",
        "results.print()"
      ],
      "metadata": {
        "id": "KqVM3AMOdgno"
      },
      "execution_count": null,
      "outputs": []
    },
    {
      "cell_type": "code",
      "source": [
        "%matplotlib inline \n",
        "fig=plt.figure(figsize=(18,18))\n",
        "plt.imshow(np.squeeze(results.render()))\n",
        "plt.show()"
      ],
      "metadata": {
        "id": "74ZHBwtbdgnp"
      },
      "execution_count": null,
      "outputs": []
    },
    {
      "cell_type": "code",
      "source": [
        "results.render()"
      ],
      "metadata": {
        "id": "6noTumWfUMTY"
      },
      "execution_count": null,
      "outputs": []
    },
    {
      "cell_type": "code",
      "source": [
        "!python yolov5/train.py --img 320 --batch 40 --epochs 200 --data handgun_data.yaml --weights yolov5l.pt --workers 2"
      ],
      "metadata": {
        "id": "JjrgqLA0EFNx"
      },
      "execution_count": null,
      "outputs": []
    },
    {
      "cell_type": "code",
      "source": [
        "model_2 = torch.hub.load('ultralytics/yolov5', 'custom', path='yolov5/runs/train/exp14/weights/last.pt', force_reload=True)"
      ],
      "metadata": {
        "id": "gmc7h1pA5rpx"
      },
      "execution_count": null,
      "outputs": []
    },
    {
      "cell_type": "code",
      "source": [
        "test_img_1 = \"https://regnum.ru/uploads/pictures/news/2021/04/06/regnum_picture_1617717418218487_normal.jpg\""
      ],
      "metadata": {
        "id": "UECjhFOE7O2C"
      },
      "execution_count": null,
      "outputs": []
    },
    {
      "cell_type": "code",
      "source": [
        "results = model_2(test_img_1)"
      ],
      "metadata": {
        "id": "dHlJzzdmgSQD"
      },
      "execution_count": null,
      "outputs": []
    },
    {
      "cell_type": "code",
      "source": [
        "results.print()"
      ],
      "metadata": {
        "id": "gjjeUbWQgXGn"
      },
      "execution_count": null,
      "outputs": []
    },
    {
      "cell_type": "code",
      "source": [
        "%matplotlib inline\n",
        "fig=plt.figure(figsize=(18,18)) \n",
        "plt.imshow(np.squeeze(results.render()))\n",
        "plt.show()\n"
      ],
      "metadata": {
        "id": "upEtc4nogZKZ"
      },
      "execution_count": null,
      "outputs": []
    },
    {
      "cell_type": "code",
      "source": [
        "test_img_3 = \"https://www.personaldefenseworld.com/wp-content/uploads/sites/6/2018/10/DSC7714SeanUtley.jpg\""
      ],
      "metadata": {
        "id": "spOy6hsyhVyb"
      },
      "execution_count": null,
      "outputs": []
    },
    {
      "cell_type": "code",
      "source": [
        "results =  model_2(test_img_3)"
      ],
      "metadata": {
        "id": "_eWMjCithVyc"
      },
      "execution_count": null,
      "outputs": []
    },
    {
      "cell_type": "code",
      "source": [
        "results.print()"
      ],
      "metadata": {
        "id": "6TnwE_BjhVyc"
      },
      "execution_count": null,
      "outputs": []
    },
    {
      "cell_type": "code",
      "source": [
        "%matplotlib inline\n",
        "fig=plt.figure(figsize=(18,18)) \n",
        "plt.imshow(np.squeeze(results.render()))\n",
        "plt.show()\n"
      ],
      "metadata": {
        "id": "-xFkk_QDhVyc"
      },
      "execution_count": null,
      "outputs": []
    },
    {
      "cell_type": "code",
      "source": [
        "test_img_4 = \"https://www.kinonews.ru/insimgs/shotimg/shotimg15776_4.jpg\""
      ],
      "metadata": {
        "id": "fW8TQkZ-h10x"
      },
      "execution_count": null,
      "outputs": []
    },
    {
      "cell_type": "code",
      "source": [
        "results =  model_2(test_img_4)"
      ],
      "metadata": {
        "id": "9mu9VgV9h10x"
      },
      "execution_count": null,
      "outputs": []
    },
    {
      "cell_type": "code",
      "source": [
        "results.print()"
      ],
      "metadata": {
        "id": "LS6zr4RZh10x"
      },
      "execution_count": null,
      "outputs": []
    },
    {
      "cell_type": "code",
      "source": [
        "%matplotlib inline\n",
        "fig=plt.figure(figsize=(18,18)) \n",
        "plt.imshow(np.squeeze(results.render()))\n",
        "plt.show()\n"
      ],
      "metadata": {
        "id": "zCCKFIaTh10y"
      },
      "execution_count": null,
      "outputs": []
    },
    {
      "cell_type": "code",
      "source": [
        "test_img_5 = \"https://gastatic.com/digest/wp-content/uploads/2018/09/23-4.jpg\""
      ],
      "metadata": {
        "id": "-KEXgmUXi2bs"
      },
      "execution_count": null,
      "outputs": []
    },
    {
      "cell_type": "code",
      "source": [
        "results =  model_2(test_img_5)"
      ],
      "metadata": {
        "id": "nP9kSZ8wi2bs"
      },
      "execution_count": null,
      "outputs": []
    },
    {
      "cell_type": "code",
      "source": [
        "results.print()"
      ],
      "metadata": {
        "id": "hcNw19jFi2bs"
      },
      "execution_count": null,
      "outputs": []
    },
    {
      "cell_type": "code",
      "source": [
        "%matplotlib inline\n",
        "fig=plt.figure(figsize=(18,18)) \n",
        "plt.imshow(np.squeeze(results.render()))\n",
        "plt.show()\n"
      ],
      "metadata": {
        "id": "K7T8Yd-Ei2bt"
      },
      "execution_count": null,
      "outputs": []
    },
    {
      "cell_type": "code",
      "source": [
        "test_img_5 = \"https://i.pinimg.com/originals/eb/7f/c2/eb7fc2aaf5faf8c6c8b0f7738da6ca45.jpg\""
      ],
      "metadata": {
        "id": "XIR3IkGWo_X2"
      },
      "execution_count": null,
      "outputs": []
    },
    {
      "cell_type": "code",
      "source": [
        "results =  model_2(test_img_5)"
      ],
      "metadata": {
        "id": "LxFZjPhqo_X3"
      },
      "execution_count": null,
      "outputs": []
    },
    {
      "cell_type": "code",
      "source": [
        "results.print()"
      ],
      "metadata": {
        "id": "hXVR5Nyto_X3"
      },
      "execution_count": null,
      "outputs": []
    },
    {
      "cell_type": "code",
      "source": [
        "%matplotlib inline\n",
        "fig=plt.figure(figsize=(18,18)) \n",
        "plt.imshow(np.squeeze(results.render()))\n",
        "plt.show()\n"
      ],
      "metadata": {
        "id": "wAbn8x2Lo_X3"
      },
      "execution_count": null,
      "outputs": []
    },
    {
      "cell_type": "code",
      "source": [
        "!zip -r /content/yolov5l.zip /content/yolov5"
      ],
      "metadata": {
        "id": "yMh-WZOoxaMY"
      },
      "execution_count": null,
      "outputs": []
    }
  ]
}